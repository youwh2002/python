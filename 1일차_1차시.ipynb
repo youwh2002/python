{
  "nbformat": 4,
  "nbformat_minor": 0,
  "metadata": {
    "colab": {
      "name": "1일차_1차시.ipynb",
      "provenance": [],
      "authorship_tag": "ABX9TyPgxAFl6lfoggu9j1fgEYzK",
      "include_colab_link": true
    },
    "kernelspec": {
      "name": "python3",
      "display_name": "Python 3"
    }
  },
  "cells": [
    {
      "cell_type": "markdown",
      "metadata": {
        "id": "view-in-github",
        "colab_type": "text"
      },
      "source": [
        "<a href=\"https://colab.research.google.com/github/youwh2002/python/blob/master/1%EC%9D%BC%EC%B0%A8_1%EC%B0%A8%EC%8B%9C.ipynb\" target=\"_parent\"><img src=\"https://colab.research.google.com/assets/colab-badge.svg\" alt=\"Open In Colab\"/></a>"
      ]
    },
    {
      "cell_type": "markdown",
      "metadata": {
        "id": "qRjv3VzS3ZvN",
        "colab_type": "text"
      },
      "source": [
        "오늘은 **1일차 1교시 출력문** 작성내용입니다.\n",
        "\n",
        "\n",
        "---\n",
        "오늘의 학습목표\n",
        "1.  개발환경 설치\n",
        "2.  출력문 작성\n",
        "---"
      ]
    },
    {
      "cell_type": "code",
      "metadata": {
        "id": "ubVfSM6M2cP5",
        "colab_type": "code",
        "outputId": "bfc0d1bd-34f5-433d-960c-b8ef79667d90",
        "colab": {
          "base_uri": "https://localhost:8080/",
          "height": 35
        }
      },
      "source": [
        "print('인천정보산업고')"
      ],
      "execution_count": 0,
      "outputs": [
        {
          "output_type": "stream",
          "text": [
            "인천정보산업고\n"
          ],
          "name": "stdout"
        }
      ]
    },
    {
      "cell_type": "code",
      "metadata": {
        "id": "78nT5GnH4J8I",
        "colab_type": "code",
        "outputId": "05f4ae3f-655e-48db-e92d-5dcb2fe0c789",
        "colab": {
          "base_uri": "https://localhost:8080/",
          "height": 35
        }
      },
      "source": [
        " a=1\n",
        "b=2\n",
        "a\n",
        "b\n",
        "print(a, b)"
      ],
      "execution_count": 0,
      "outputs": [
        {
          "output_type": "stream",
          "text": [
            "1 2\n"
          ],
          "name": "stdout"
        }
      ]
    },
    {
      "cell_type": "code",
      "metadata": {
        "id": "TOUBOQlH4PyB",
        "colab_type": "code",
        "outputId": "57698446-014d-4525-e218-2d8b31521164",
        "colab": {
          "base_uri": "https://localhost:8080/",
          "height": 35
        }
      },
      "source": [
        "print('재흥 조아')"
      ],
      "execution_count": 0,
      "outputs": [
        {
          "output_type": "stream",
          "text": [
            "재흥 조아\n"
          ],
          "name": "stdout"
        }
      ]
    },
    {
      "cell_type": "markdown",
      "metadata": {
        "id": "WPxlwHUG4b2z",
        "colab_type": "text"
      },
      "source": [
        "**사칙연산**\n",
        "\n",
        "\n",
        "\n",
        "...\n",
        "\n",
        "# + , - , *, ** ,/, //, %\n",
        "a+b=5"
      ]
    },
    {
      "cell_type": "code",
      "metadata": {
        "id": "y3lt85Yd4I5x",
        "colab_type": "code",
        "outputId": "15015971-63c3-4f01-97c7-464ef12c4158",
        "colab": {
          "base_uri": "https://localhost:8080/",
          "height": 35
        }
      },
      "source": [
        " a=3\n",
        " b=2\n",
        " print('a + b =',a+b)\n",
        " # 나는 주석"
      ],
      "execution_count": 9,
      "outputs": [
        {
          "output_type": "stream",
          "text": [
            "a + b = 5\n"
          ],
          "name": "stdout"
        }
      ]
    }
  ]
}